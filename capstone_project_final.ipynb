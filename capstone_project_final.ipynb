{
 "metadata": {
  "language_info": {
   "codemirror_mode": {
    "name": "ipython",
    "version": 3
   },
   "file_extension": ".py",
   "mimetype": "text/x-python",
   "name": "python",
   "nbconvert_exporter": "python",
   "pygments_lexer": "ipython3",
   "version": "3.8.5-final"
  },
  "orig_nbformat": 2,
  "kernelspec": {
   "name": "python3",
   "display_name": "Python 3",
   "language": "python"
  }
 },
 "nbformat": 4,
 "nbformat_minor": 2,
 "cells": [
  {
   "source": [
    "# Capstone Project - The Battle of the Neighborhoods (Final Assignment)\n",
    "\n",
    "*This notebook is mainly for Applied Data Science Capstone - Coursera Course, and should not be used for references or clinical judgement*\n",
    "\n",
    "## Table of contents\n",
    "- [Introduction](#introduction)\n",
    "- [Data](#data)\n",
    "- [Methodology and Analysis](#methodology-and-analysis)\n",
    "- [Results](#results)\n",
    "- [Discussion](#discussion)\n",
    "- [Conclusion](#conclusion)\n"
   ],
   "cell_type": "markdown",
   "metadata": {}
  },
  {
   "source": [
    "## Introduction\n",
    "\n",
    "Coronavirus disease (COVID-19) is an infectious disease caused by a newly discovered coronavirus.  \n",
    "In Thailand, the city which has most cases of COVID-19 is Bangkok - the capital and most populous city of Thailand.\n",
    "The city divided into 50 districts in total.  \n",
    "In this project we will try to find the correlation of number of COVID-19 cases who had onset in each district of Bangkok and the clusters of districts based on catogery and density of venues\n",
    "\n",
    "This data and visualization may provided useful information for strategy to deal with current COVID-19 spreads.\n",
    "For example may promotes the awareness of people, or lead to invented policies to limited the spread of the disease."
   ],
   "cell_type": "markdown",
   "metadata": {}
  },
  {
   "source": [
    "## Data"
   ],
   "cell_type": "markdown",
   "metadata": {}
  },
  {
   "source": [
    "The data we need are list below  \n",
    "\n",
    "- Number of COVID-19 cases who had onset in each district of Bangkok - this data is query and process from https://covid19.th-stat.com/api/open/cases - official API provided by Department of Disease Control of Thailand\n",
    "- Coordinates data of each district of Bangkok - together with Foursquare API to find the venues and create clusters of district. I used data from https://data.go.th/dataset/item_c6d42e1b-3219-47e1-b6b7-dfe914f27910 - Open Government Data of Thailand. Which included the data of latitude and longitude of each subdistrict in Thailand\n",
    "- Table included lists of district in Bangkok included both English and Thai name of each district from https://en.wikipedia.org/wiki/List_of_districts_of_Bangkok\n",
    "- GeoJSON file of districts in Bangkok from https://github.com/pcrete/gsvloader-demo/blob/master/geojson/Bangkok-districts.geojson for visualize chloropleth map"
   ],
   "cell_type": "markdown",
   "metadata": {}
  },
  {
   "source": [
    "### COVID-19 cases"
   ],
   "cell_type": "markdown",
   "metadata": {}
  },
  {
   "cell_type": "code",
   "execution_count": 16,
   "metadata": {
    "tags": []
   },
   "outputs": [
    {
     "output_type": "stream",
     "name": "stdout",
     "text": [
      "(10081, 13)\n"
     ]
    },
    {
     "output_type": "execute_result",
     "data": {
      "text/plain": [
       "           ConfirmDate     No   Age Gender GenderEn    Nation  NationEn  \\\n",
       "0  2021-01-09 15:31:58  10053  41.0   หญิง   Female  Thailand  Thailand   \n",
       "1  2021-01-09 15:31:58  10052  41.0    ชาย     Male  Thailand  Thailand   \n",
       "2  2021-01-09 15:31:58  10051  32.0   หญิง   Female  Thailand  Thailand   \n",
       "3  2021-01-09 15:31:58  10050  33.0   หญิง   Female  Thailand  Thailand   \n",
       "4  2021-01-09 15:31:58  10049  68.0    ชาย     Male  Thailand  Thailand   \n",
       "\n",
       "   Province  ProvinceId     District   ProvinceEn Detail  StatQuarantine  \n",
       "0  จันทบุรี           7  โป่งน้ำร้อน  Chanthaburi   None               1  \n",
       "1  จันทบุรี           7  โป่งน้ำร้อน  Chanthaburi   None               1  \n",
       "2  จันทบุรี           7  โป่งน้ำร้อน  Chanthaburi   None               1  \n",
       "3     ระยอง          50   เมืองระยอง       Rayong   None               1  \n",
       "4     ระยอง          50   เมืองระยอง       Rayong   None               1  "
      ],
      "text/html": "<div>\n<style scoped>\n    .dataframe tbody tr th:only-of-type {\n        vertical-align: middle;\n    }\n\n    .dataframe tbody tr th {\n        vertical-align: top;\n    }\n\n    .dataframe thead th {\n        text-align: right;\n    }\n</style>\n<table border=\"1\" class=\"dataframe\">\n  <thead>\n    <tr style=\"text-align: right;\">\n      <th></th>\n      <th>ConfirmDate</th>\n      <th>No</th>\n      <th>Age</th>\n      <th>Gender</th>\n      <th>GenderEn</th>\n      <th>Nation</th>\n      <th>NationEn</th>\n      <th>Province</th>\n      <th>ProvinceId</th>\n      <th>District</th>\n      <th>ProvinceEn</th>\n      <th>Detail</th>\n      <th>StatQuarantine</th>\n    </tr>\n  </thead>\n  <tbody>\n    <tr>\n      <th>0</th>\n      <td>2021-01-09 15:31:58</td>\n      <td>10053</td>\n      <td>41.0</td>\n      <td>หญิง</td>\n      <td>Female</td>\n      <td>Thailand</td>\n      <td>Thailand</td>\n      <td>จันทบุรี</td>\n      <td>7</td>\n      <td>โป่งน้ำร้อน</td>\n      <td>Chanthaburi</td>\n      <td>None</td>\n      <td>1</td>\n    </tr>\n    <tr>\n      <th>1</th>\n      <td>2021-01-09 15:31:58</td>\n      <td>10052</td>\n      <td>41.0</td>\n      <td>ชาย</td>\n      <td>Male</td>\n      <td>Thailand</td>\n      <td>Thailand</td>\n      <td>จันทบุรี</td>\n      <td>7</td>\n      <td>โป่งน้ำร้อน</td>\n      <td>Chanthaburi</td>\n      <td>None</td>\n      <td>1</td>\n    </tr>\n    <tr>\n      <th>2</th>\n      <td>2021-01-09 15:31:58</td>\n      <td>10051</td>\n      <td>32.0</td>\n      <td>หญิง</td>\n      <td>Female</td>\n      <td>Thailand</td>\n      <td>Thailand</td>\n      <td>จันทบุรี</td>\n      <td>7</td>\n      <td>โป่งน้ำร้อน</td>\n      <td>Chanthaburi</td>\n      <td>None</td>\n      <td>1</td>\n    </tr>\n    <tr>\n      <th>3</th>\n      <td>2021-01-09 15:31:58</td>\n      <td>10050</td>\n      <td>33.0</td>\n      <td>หญิง</td>\n      <td>Female</td>\n      <td>Thailand</td>\n      <td>Thailand</td>\n      <td>ระยอง</td>\n      <td>50</td>\n      <td>เมืองระยอง</td>\n      <td>Rayong</td>\n      <td>None</td>\n      <td>1</td>\n    </tr>\n    <tr>\n      <th>4</th>\n      <td>2021-01-09 15:31:58</td>\n      <td>10049</td>\n      <td>68.0</td>\n      <td>ชาย</td>\n      <td>Male</td>\n      <td>Thailand</td>\n      <td>Thailand</td>\n      <td>ระยอง</td>\n      <td>50</td>\n      <td>เมืองระยอง</td>\n      <td>Rayong</td>\n      <td>None</td>\n      <td>1</td>\n    </tr>\n  </tbody>\n</table>\n</div>"
     },
     "metadata": {},
     "execution_count": 16
    }
   ],
   "source": [
    "import requests\n",
    "import pandas as pd\n",
    "\n",
    "url = 'https://covid19.th-stat.com/api/open/cases'\n",
    "response = requests.get(url)\n",
    "covid = pd.json_normalize(response.json()[\"Data\"])\n",
    "print(covid.shape)\n",
    "covid.head()"
   ]
  },
  {
   "cell_type": "code",
   "execution_count": 14,
   "metadata": {},
   "outputs": [
    {
     "output_type": "stream",
     "name": "stdout",
     "text": [
      "(2716, 13)\n"
     ]
    },
    {
     "output_type": "execute_result",
     "data": {
      "text/plain": [
       "            ConfirmDate    No   Age Gender GenderEn    Nation  NationEn  \\\n",
       "65  2021-01-09 15:31:57  9976  48.0    ชาย     Male  Thailand  Thailand   \n",
       "66  2021-01-09 15:31:57  9975  30.0   หญิง   Female  Thailand  Thailand   \n",
       "67  2021-01-09 15:31:57  9974  27.0    ชาย     Male  Thailand  Thailand   \n",
       "68  2021-01-09 15:31:57  9973  50.0   หญิง   Female  Thailand  Thailand   \n",
       "69  2021-01-09 15:31:57  9972  48.0    ชาย     Male  Thailand  Thailand   \n",
       "\n",
       "         Province  ProvinceId     District ProvinceEn Detail  StatQuarantine  \n",
       "65  กรุงเทพมหานคร           1  บางขุนเทียน    Bangkok   None               1  \n",
       "66  กรุงเทพมหานคร           1  บางขุนเทียน    Bangkok   None               1  \n",
       "67  กรุงเทพมหานคร           1   วังทองหลาง    Bangkok   None               1  \n",
       "68  กรุงเทพมหานคร           1  บางขุนเทียน    Bangkok   None               1  \n",
       "69  กรุงเทพมหานคร           1  บางขุนเทียน    Bangkok   None               1  "
      ],
      "text/html": "<div>\n<style scoped>\n    .dataframe tbody tr th:only-of-type {\n        vertical-align: middle;\n    }\n\n    .dataframe tbody tr th {\n        vertical-align: top;\n    }\n\n    .dataframe thead th {\n        text-align: right;\n    }\n</style>\n<table border=\"1\" class=\"dataframe\">\n  <thead>\n    <tr style=\"text-align: right;\">\n      <th></th>\n      <th>ConfirmDate</th>\n      <th>No</th>\n      <th>Age</th>\n      <th>Gender</th>\n      <th>GenderEn</th>\n      <th>Nation</th>\n      <th>NationEn</th>\n      <th>Province</th>\n      <th>ProvinceId</th>\n      <th>District</th>\n      <th>ProvinceEn</th>\n      <th>Detail</th>\n      <th>StatQuarantine</th>\n    </tr>\n  </thead>\n  <tbody>\n    <tr>\n      <th>65</th>\n      <td>2021-01-09 15:31:57</td>\n      <td>9976</td>\n      <td>48.0</td>\n      <td>ชาย</td>\n      <td>Male</td>\n      <td>Thailand</td>\n      <td>Thailand</td>\n      <td>กรุงเทพมหานคร</td>\n      <td>1</td>\n      <td>บางขุนเทียน</td>\n      <td>Bangkok</td>\n      <td>None</td>\n      <td>1</td>\n    </tr>\n    <tr>\n      <th>66</th>\n      <td>2021-01-09 15:31:57</td>\n      <td>9975</td>\n      <td>30.0</td>\n      <td>หญิง</td>\n      <td>Female</td>\n      <td>Thailand</td>\n      <td>Thailand</td>\n      <td>กรุงเทพมหานคร</td>\n      <td>1</td>\n      <td>บางขุนเทียน</td>\n      <td>Bangkok</td>\n      <td>None</td>\n      <td>1</td>\n    </tr>\n    <tr>\n      <th>67</th>\n      <td>2021-01-09 15:31:57</td>\n      <td>9974</td>\n      <td>27.0</td>\n      <td>ชาย</td>\n      <td>Male</td>\n      <td>Thailand</td>\n      <td>Thailand</td>\n      <td>กรุงเทพมหานคร</td>\n      <td>1</td>\n      <td>วังทองหลาง</td>\n      <td>Bangkok</td>\n      <td>None</td>\n      <td>1</td>\n    </tr>\n    <tr>\n      <th>68</th>\n      <td>2021-01-09 15:31:57</td>\n      <td>9973</td>\n      <td>50.0</td>\n      <td>หญิง</td>\n      <td>Female</td>\n      <td>Thailand</td>\n      <td>Thailand</td>\n      <td>กรุงเทพมหานคร</td>\n      <td>1</td>\n      <td>บางขุนเทียน</td>\n      <td>Bangkok</td>\n      <td>None</td>\n      <td>1</td>\n    </tr>\n    <tr>\n      <th>69</th>\n      <td>2021-01-09 15:31:57</td>\n      <td>9972</td>\n      <td>48.0</td>\n      <td>ชาย</td>\n      <td>Male</td>\n      <td>Thailand</td>\n      <td>Thailand</td>\n      <td>กรุงเทพมหานคร</td>\n      <td>1</td>\n      <td>บางขุนเทียน</td>\n      <td>Bangkok</td>\n      <td>None</td>\n      <td>1</td>\n    </tr>\n  </tbody>\n</table>\n</div>"
     },
     "metadata": {},
     "execution_count": 14
    }
   ],
   "source": [
    "covid_bkk = covid[covid['ProvinceId']==1]\n",
    "print(covid_bkk.shape)\n",
    "covid_bkk.head()"
   ]
  },
  {
   "cell_type": "code",
   "execution_count": 37,
   "metadata": {},
   "outputs": [
    {
     "output_type": "stream",
     "name": "stdout",
     "text": [
      "150\n"
     ]
    },
    {
     "output_type": "execute_result",
     "data": {
      "text/plain": [
       "array(['บางขุนเทียน', 'วังทองหลาง', 'วัฒนา', 'เมือง', 'พระนคร', 'ธนบุรี',\n",
       "       'สวนหลวง', 'บางบอน', 'บางแค', 'ราษฎร์บูรณะ', 'พระสมุทรเจดีย์',\n",
       "       'ประเวศ', 'พระประแดง', 'บางนา', 'ภาษีเจริญ', 'ท่าวุ้ง', 'บางกะปิ',\n",
       "       'เมืองสมุทรสาคร', 'บางเขน', 'บางพลัด', 'บางคอแหลม', 'บางพลี',\n",
       "       'บางละมุง', 'บางกรวย', 'อัมพวา', 'เสนา', 'บางบัวทอง', 'ดอนเมือง',\n",
       "       'บางบ่อ', 'คลองเตย', 'คลองสาน', 'บางซื่อ', 'คลองสามวา', 'บางรัก',\n",
       "       'บ้านกุ่ม', 'จอมทอง', 'หนองแขม', 'ปทุมวัน', 'บางใหญ่', 'บางเสาธง',\n",
       "       'ยานนาวา', 'บางกอกใหญ่', 'ปากเกร็ด', 'ศรีขระภูมิ', 'จตุจักร',\n",
       "       'มีนบุรี', 'ดุสิต', 'จอมบึง', 'พญาไท', 'ทวีวัฒนา', '', 'สาทร',\n",
       "       'ห้วยขวาง', 'กระทุ่มแบน', 'วััฒนา', 'บางพลีัด',\n",
       "       'ป้อมปราการศัตรูพ่าย', 'พระโขนง', 'ดินแดง', 'บางนอน', 'ลาดกระบัง',\n",
       "       'ทุ่งครุ', 'หลักสี่', 'รัชดา', 'บางขุุนเทียน', 'บึงกุ่ม', '้เมือง',\n",
       "       'ยายนาวา', 'หนองจอก', 'บางกอกน้อย', 'แก้งคร้อ', 'บ้านโป่ง', 'สาธร',\n",
       "       'คลองหลวง', 'ป้อมปราบศัตรูพ่าย', 'ราชเทวี', 'บางมด', 'บางยี่ขัน',\n",
       "       'ดุุสิต', 'สายไหม', 'คลองเตยเหนือ', 'สุขุมวิท 50', 'เมืองนนทบุรี',\n",
       "       'พัทยา', 'ตลิ่งชัน', 'บางเมือง', 'วัฒนะ', 'ลาดพร้าว',\n",
       "       'บางหญ้าเเพรก', 'พระราม 2', 'สุรวงค์', 'กำแพงแสน', 'บางประกง',\n",
       "       'ปทุุมวัน', 'สุขุมวิท', 'เขตบางรัก', 'หัวหมาก', 'กทม', 'ชลบุรี',\n",
       "       'สัตหีบ', 'ราชดำริ', 'สามเสนใน', 'สุรวงศ์', 'จตุุจักร', 'ราชวิถี',\n",
       "       ' ', 'คลองจั่น', 'พัฒนาการ', 'เมืองสมุทรปราการ', 'เมืองปทุมธานี',\n",
       "       'รามอินทรา', 'คำเขื่อนแก้ว', 'สะพานสูง', 'สะพานสููง', 'บางลำพู',\n",
       "       'คันนายาว', 'ไม่ระบุ', 'ราษฎ์บูรณะ', 'เมืองใต้', 'รังสิต',\n",
       "       'ตระกาลพืชผล', 'ศาลาธรรมสพน์', 'กษัฎร์พัฒนา', 'บางจาก',\n",
       "       'สุขสวัสดิ์', 'พระสมุทรเจดี', 'บางนาเหนือ', 'ลำลูกกา', 'ประโคนชัย',\n",
       "       'บางปะกง', 'อ่อนนุช', 'แม่สอด', 'พัฒนานิคม', 'เมืองราชบุรี',\n",
       "       'คลองชักพระ', 'สัมพันธวงศ์', 'บางวื่อ', 'ธัญบุรี', 'พระราม 9',\n",
       "       'ตลาดน้อย', 'ออเงิน', 'จันทรเกษม', 'คลองตัน', 'อนุเสาวรีย์',\n",
       "       'ท่าชนะ', 'ทองหล่อ', 'คลองกุ่ม', 'ปิ่นเกล้า', 'เตาปูน',\n",
       "       'นครชัยศรี'], dtype=object)"
      ]
     },
     "metadata": {},
     "execution_count": 37
    }
   ],
   "source": [
    "print(covid_bkk['District'].unique().size)\n",
    "covid_bkk['District'].unique()"
   ]
  },
  {
   "source": [
    "Note that there is only 50 district in Bangkok. This list we got include some typo data and etc.  \n",
    "We will get the list of all 50 districts, then match with the data we got earlier, and drop all the data that not matched"
   ],
   "cell_type": "markdown",
   "metadata": {}
  },
  {
   "source": [
    "First, get the name of 50 districts in Bangkok from wikipedia webpage"
   ],
   "cell_type": "markdown",
   "metadata": {}
  },
  {
   "cell_type": "code",
   "execution_count": 23,
   "metadata": {},
   "outputs": [
    {
     "output_type": "execute_result",
     "data": {
      "text/plain": [
       "  District(Khet)  MapNr  Post-code       Thai  Popu-lation  \\\n",
       "0       Bang Bon     50      10150     บางบอน       105161   \n",
       "1      Bang Kapi      6      10240    บางกะปิ       148465   \n",
       "2      Bang Khae     40      10160      บางแค       191781   \n",
       "3      Bang Khen      5      10220     บางเขน       189539   \n",
       "4  Bang Kho Laem     31      10120  บางคอแหลม        94956   \n",
       "\n",
       "   No. ofSubdis-trictsKhwaeng   Latitude   Longitude  \n",
       "0                           4  13.659200  100.399100  \n",
       "1                           2  13.765833  100.647778  \n",
       "2                           4  13.696111  100.409444  \n",
       "3                           2  13.873889  100.596389  \n",
       "4                           3  13.693333  100.502500  "
      ],
      "text/html": "<div>\n<style scoped>\n    .dataframe tbody tr th:only-of-type {\n        vertical-align: middle;\n    }\n\n    .dataframe tbody tr th {\n        vertical-align: top;\n    }\n\n    .dataframe thead th {\n        text-align: right;\n    }\n</style>\n<table border=\"1\" class=\"dataframe\">\n  <thead>\n    <tr style=\"text-align: right;\">\n      <th></th>\n      <th>District(Khet)</th>\n      <th>MapNr</th>\n      <th>Post-code</th>\n      <th>Thai</th>\n      <th>Popu-lation</th>\n      <th>No. ofSubdis-trictsKhwaeng</th>\n      <th>Latitude</th>\n      <th>Longitude</th>\n    </tr>\n  </thead>\n  <tbody>\n    <tr>\n      <th>0</th>\n      <td>Bang Bon</td>\n      <td>50</td>\n      <td>10150</td>\n      <td>บางบอน</td>\n      <td>105161</td>\n      <td>4</td>\n      <td>13.659200</td>\n      <td>100.399100</td>\n    </tr>\n    <tr>\n      <th>1</th>\n      <td>Bang Kapi</td>\n      <td>6</td>\n      <td>10240</td>\n      <td>บางกะปิ</td>\n      <td>148465</td>\n      <td>2</td>\n      <td>13.765833</td>\n      <td>100.647778</td>\n    </tr>\n    <tr>\n      <th>2</th>\n      <td>Bang Khae</td>\n      <td>40</td>\n      <td>10160</td>\n      <td>บางแค</td>\n      <td>191781</td>\n      <td>4</td>\n      <td>13.696111</td>\n      <td>100.409444</td>\n    </tr>\n    <tr>\n      <th>3</th>\n      <td>Bang Khen</td>\n      <td>5</td>\n      <td>10220</td>\n      <td>บางเขน</td>\n      <td>189539</td>\n      <td>2</td>\n      <td>13.873889</td>\n      <td>100.596389</td>\n    </tr>\n    <tr>\n      <th>4</th>\n      <td>Bang Kho Laem</td>\n      <td>31</td>\n      <td>10120</td>\n      <td>บางคอแหลม</td>\n      <td>94956</td>\n      <td>3</td>\n      <td>13.693333</td>\n      <td>100.502500</td>\n    </tr>\n  </tbody>\n</table>\n</div>"
     },
     "metadata": {},
     "execution_count": 23
    }
   ],
   "source": [
    "bkk_district = pd.read_html('https://en.wikipedia.org/wiki/List_of_districts_of_Bangkok')[0]\n",
    "bkk_district.head()"
   ]
  },
  {
   "cell_type": "code",
   "execution_count": 41,
   "metadata": {},
   "outputs": [
    {
     "output_type": "stream",
     "name": "stdout",
     "text": [
      "Total:  50\nThe first ten samples below\n"
     ]
    },
    {
     "output_type": "execute_result",
     "data": {
      "text/plain": [
       "['บางบอน',\n",
       " 'บางกะปิ',\n",
       " 'บางแค',\n",
       " 'บางเขน',\n",
       " 'บางคอแหลม',\n",
       " 'บางขุนเทียน',\n",
       " 'บางนา',\n",
       " 'บางพลัด',\n",
       " 'บางรัก',\n",
       " 'บางซื่อ']"
      ]
     },
     "metadata": {},
     "execution_count": 41
    }
   ],
   "source": [
    "bkk_district_list = bkk_district['Thai'].to_list()\n",
    "print(\"Total: \",len(bkk_district_list))\n",
    "print(\"The first ten samples below\")\n",
    "bkk_district_list[0:10]"
   ]
  },
  {
   "source": [
    "### Coordinates data"
   ],
   "cell_type": "markdown",
   "metadata": {}
  },
  {
   "source": [
    "### Foursquare"
   ],
   "cell_type": "markdown",
   "metadata": {}
  },
  {
   "source": [
    "## Methodology and Analysis"
   ],
   "cell_type": "markdown",
   "metadata": {}
  },
  {
   "source": [
    "## Results"
   ],
   "cell_type": "markdown",
   "metadata": {}
  },
  {
   "source": [
    "## Discussion"
   ],
   "cell_type": "markdown",
   "metadata": {}
  },
  {
   "source": [
    "## Conclusion"
   ],
   "cell_type": "markdown",
   "metadata": {}
  }
 ]
}