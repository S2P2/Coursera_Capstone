{
 "metadata": {
  "language_info": {
   "codemirror_mode": {
    "name": "ipython",
    "version": 3
   },
   "file_extension": ".py",
   "mimetype": "text/x-python",
   "name": "python",
   "nbconvert_exporter": "python",
   "pygments_lexer": "ipython3",
   "version": "3.8.5-final"
  },
  "orig_nbformat": 2,
  "kernelspec": {
   "name": "python3",
   "display_name": "Python 3",
   "language": "python"
  }
 },
 "nbformat": 4,
 "nbformat_minor": 2,
 "cells": [
  {
   "source": [
    "# Capstone Project - The Battle of the Neighborhoods (Final Assignment)\n",
    "\n",
    "*This notebook is mainly for Applied Data Science Capstone - Coursera Course, and should not be used for references or clinical judgement*\n",
    "\n",
    "## Table of contents\n",
    "- [Introduction](#introduction)\n",
    "- [Data](#data)\n",
    "- [Methodology and Analysis](#methodology-and-analysis)\n",
    "- [Results](#results)\n",
    "- [Discussion](#discussion)\n",
    "- [Conclusion](#conclusion)\n"
   ],
   "cell_type": "markdown",
   "metadata": {}
  },
  {
   "source": [
    "## Introduction\n",
    "\n",
    "Coronavirus disease (COVID-19) is an infectious disease caused by a newly discovered coronavirus.  \n",
    "In Thailand, the city which has most cases of COVID-19 is Bangkok - the capital and most populous city of Thailand.\n",
    "The city divided into 50 districts in total.  \n",
    "In this project we will try to find the correlation of number of COVID-19 cases who had onset in each district of Bangkok and the clusters of districts based on catogery and density of venues\n",
    "\n",
    "This data and visualization may provided useful information for strategy to deal with current COVID-19 spreads.\n",
    "For example may promotes the awareness of people, or lead to invented policies to limited the spread of the disease."
   ],
   "cell_type": "markdown",
   "metadata": {}
  },
  {
   "source": [
    "## Data"
   ],
   "cell_type": "markdown",
   "metadata": {}
  },
  {
   "source": [
    "The data we need are list below  \n",
    "\n",
    "- Number of COVID-19 cases who had onset in each district of Bangkok - this data is query and process from https://covid19.th-stat.com/api/open/cases - official API provided by Department of Disease Control of Thailand\n",
    "- Coordinates data of each district of Bangkok - together with Foursquare API to find the venues and create clusters of district. I used data from https://data.go.th/dataset/item_c6d42e1b-3219-47e1-b6b7-dfe914f27910 - Open Government Data of Thailand. Which included the data of latitude and longitude of each subdistrict in Thailand\n",
    "- Table included lists of district in Bangkok included both English and Thai name of each district from https://en.wikipedia.org/wiki/List_of_districts_of_Bangkok\n",
    "- GeoJSON file of districts in Bangkok from https://github.com/pcrete/gsvloader-demo/blob/master/geojson/Bangkok-districts.geojson for visualize chloropleth map"
   ],
   "cell_type": "markdown",
   "metadata": {}
  },
  {
   "source": [
    "### COVID-19 cases"
   ],
   "cell_type": "markdown",
   "metadata": {}
  },
  {
   "source": [
    "### Coordinates data"
   ],
   "cell_type": "markdown",
   "metadata": {}
  },
  {
   "source": [
    "### Foursquare"
   ],
   "cell_type": "markdown",
   "metadata": {}
  },
  {
   "source": [
    "## Methodology and Analysis"
   ],
   "cell_type": "markdown",
   "metadata": {}
  },
  {
   "source": [
    "## Results"
   ],
   "cell_type": "markdown",
   "metadata": {}
  },
  {
   "source": [
    "## Discussion"
   ],
   "cell_type": "markdown",
   "metadata": {}
  },
  {
   "source": [
    "## Conclusion"
   ],
   "cell_type": "markdown",
   "metadata": {}
  }
 ]
}